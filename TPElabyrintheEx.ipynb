{
 "cells": [
  {
   "cell_type": "markdown",
   "metadata": {},
   "source": [
    "# Exemple d'éxécution du programme labyrinthe."
   ]
  },
  {
   "cell_type": "markdown",
   "metadata": {},
   "source": [
    "### Ce programme a la même fonction que le premier, si ce n'est que vous n'avez plus à rentrer le labyrinthe. Il y en a déjà qui sont construits."
   ]
  },
  {
   "cell_type": "markdown",
   "metadata": {},
   "source": [
    "On commence par importer les modules dont on a besoin"
   ]
  },
  {
   "cell_type": "code",
   "execution_count": 2,
   "metadata": {
    "collapsed": true
   },
   "outputs": [],
   "source": [
    "import matplotlib.pyplot as mpl #mpl sera notre repère"
   ]
  },
  {
   "cell_type": "markdown",
   "metadata": {},
   "source": [
    "Ici, les labyrinthe étant pré-remplis, on saute les 4 premières étapes et on les remplace par celle-ci :"
   ]
  },
  {
   "cell_type": "code",
   "execution_count": 3,
   "metadata": {
    "scrolled": false
   },
   "outputs": [
    {
     "name": "stdout",
     "output_type": "stream",
     "text": [
      "Voici le labyrinthe 1 :\n"
     ]
    },
    {
     "data": {
      "image/png": "[encoded data removed]",
      "text/plain": [
       "<matplotlib.figure.Figure at 0x8ef775e7b8>"
      ]
     },
     "metadata": {},
     "output_type": "display_data"
    },
    {
     "name": "stdout",
     "output_type": "stream",
     "text": [
      "Voici le labyrinthe 2 :\n"
     ]
    },
    {
     "data": {
      "image/png": "[encoded data removed]",
      "text/plain": [
       "<matplotlib.figure.Figure at 0x8ef76ca780>"
      ]
     },
     "metadata": {},
     "output_type": "display_data"
    },
    {
     "name": "stdout",
     "output_type": "stream",
     "text": [
      "Voici le labyrinthe 3 :\n"
     ]
    },
    {
     "data": {
      "image/png": "[encoded data removed]",
      "text/plain": [
       "<matplotlib.figure.Figure at 0x8ef76eabe0>"
      ]
     },
     "metadata": {},
     "output_type": "display_data"
    },
    {
     "name": "stdout",
     "output_type": "stream",
     "text": [
      "Voici le labyrinthe 4 :\n"
     ]
    },
    {
     "data": {
      "image/png": "[encoded data removed]",
      "text/plain": [
       "<matplotlib.figure.Figure at 0x8ef7613e48>"
      ]
     },
     "metadata": {},
     "output_type": "display_data"
    },
    {
     "name": "stdout",
     "output_type": "stream",
     "text": [
      "quel labyrinthe veux tu tester? 4\n",
      "Tu as choisi le labyrinthe n°  4 . La case départ est la case numéro 0 et la caseArrivée la case numéro 190\n"
     ]
    }
   ],
   "source": [
    "labyrinthes =[] #variable contenant les différents labiryrinthes pré-inscrits \n",
    "labyrinthes.append([[8, 2, 2, 9, 8, 2, 4, 2, 2, 5], [1, 8, 9, 11, 5, 7, 14, 8, 2, 5 ], [1, 11, 6, 13, 1, 11, 2, 5, 8, 5], [1, 12, 2, 2, 6, 2, 9, 14, 1, 1], [11, 2, 2, 4, 2, 4, 6, 2, 10, 1], [8, 2, 9, 3, 9, 1, 12, 2, 2, 5], [1, 7, 11, 5, 1, 1, 12, 2, 9, 1], [1, 11, 9, 1, 1, 1, 8, 13, 11, 10], [11, 2, 10, 14, 1, 1, 11, 2, 2, 9], [8, 2, 2, 2, 10, 11, 2, 2, 2, 10]])\n",
    "labyrinthes.append([[8,2,13,8,2,4,2,2,4,9,7,8,13,8,2],[3,2,2,5,16,1,12,2,5,1,1,1,8,10,7],[11,2,9,3,2,15,2,2,5,1,1,1,1,12,5],[12,2,5,1,7,1,8,9,1,1,1,1,3,9,1],[7,7,14,1,1,1,1,1,1,14,1,3,5,1,1],[1,3,2,5,1,14,1,1,11,2,6,5,1,1,1],[11,10,8,5,11,2,10,11,2,4,2,10,1,14,1],[8,9,1,1,8,4,2,2,9,1,8,9,1,8,10],[1,1,1,1,3,5,8,9,1,1,1,1,3,10,7],[1,1,1,1,3,10,3,5,1,1,1,1,11,2,5],[1,11,10,14,1,12,15,10,1,1,1,1,8,9,1],[3,2,2,9,11,13,1,12,10,1,1,11,10,14,1],[1,12,2,15,2,2,6,2,2,6,15,2,2,9,14],[11,2,9,1,12,2,2,2,2,9,1,12,9,11,9],[12,2,10,11,2,2,2,2,2,10,11,2,6,13,1]])\n",
    "labyrinthes.append([[7,12,2,2,4,2,2,2,2,2,2,4,2,4],[3,13,8,9,3,2,2,2,2,4,4,10,8,10],[1,8,6,10,1,7,8,4,9,1,11,9,14,7],[1,1,8,9,1,1,11,6,10,3,9,11,13,1],[1,1,11,6,5,3,2,13,8,10,1,12,2,5],[1,14,7,12,6,15,2,4,5,7,3,4,9,1],[1,8,5,7,7,3,9,1,1,1,1,1,11,5],[11,10,3,5,3,5,14,1,1,11,10,11,9,1],[2,4,10,11,5,11,4,10,3,2,4,4,10,1],[7,1,12,9,11,2,6,9,3,9,1,3,13,1],[1,1,12,6,2,2,9,14,11,10,11,6,13,1],[11,6,2,2,2,2,6,2,2,2,2,2,2,10]])\n",
    "labyrinthes.append([[4,2,2,2,2,2,13,12,13,16,8,2,2,9],[1,14,12,4,9,12,2,4,4,2,10,8,13,1],[1,12,4,10,3,2,9,1,11,2,2,10,7,1],[1,12,5,7,14,16,1,11,9,12,4,4,6,5],[3,4,15,6,9,16,11,9,11,13,1,14,7,14],[1,11,10,12,5,12,2,6,4,9,1,8,5,7],[1,8,2,9,1,8,2,9,1,14,1,1,3,5],[1,1,7,11,10,1,16,1,1,7,1,1,14,1],[1,1,3,2,2,6,9,1,1,1,1,11,2,5],[3,5,1,7,12,2,10,1,11,5,3,2,9,1],[1,14,14,3,2,9,12,5,12,6,5,7,1,1],[1,12,2,15,13,11,9,1,12,4,6,5,3,5],[3,2,13,3,13,7,14,3,4,6,13,14,14,1],[11,2,2,6,2,6,13,14,3,2,2,2,2,10]])\n",
    "choix = 0#variable qui va stocker le numéro du labyrinthe que l'utilisateur choisira\n",
    "\n",
    "laby =[]#liste contenant le lignes de pixels de l'image à afficher.\n",
    "for item,labyrinthe in enumerate(labyrinthes):#Pour chaque labyrinthe pré-enregistré\n",
    "    laby.append([])#ajouter un item (une image)\n",
    "    for ligne in range(len(labyrinthe)):\n",
    "        laby[item].append([])\n",
    "        laby[item].append([])\n",
    "        laby[item].append([])\n",
    "        laby[item].append([])\n",
    "        laby[item].append([])\n",
    "        laby[item].append([])\n",
    "        laby[item].append([])\n",
    "        for case in range(len(labyrinthe[ligne])):\n",
    "            if labyrinthe[ligne][case]in [2,4,7,8,9,12,13,16]:\n",
    "                laby[item][ligne*7]= laby[item][ligne*7]+[0,0,0,0,0,0,0]\n",
    "            else:\n",
    "                laby[item][ligne*7]= laby[item][ligne*7]+[0,255,255,255,255,255,0]\n",
    "        \n",
    "            if labyrinthe[ligne][case] in [1,3,7,8,11,12,14,16]:\n",
    "                laby[item][ligne*7+1].append(0)\n",
    "                laby[item][ligne*7+2].append(0)\n",
    "                laby[item][ligne*7+3].append(0)\n",
    "                laby[item][ligne*7+4].append(0)\n",
    "                laby[item][ligne*7+5].append(0)\n",
    "            else:\n",
    "                laby[item][ligne*7+1].append(255)\n",
    "                laby[item][ligne*7+2].append(255)\n",
    "                laby[item][ligne*7+3].append(255)\n",
    "                laby[item][ligne*7+4].append(255)\n",
    "                laby[item][ligne*7+5].append(255)\n",
    "            \n",
    "            laby[item][ligne*7+1]=laby[item][ligne*7+1]+[255,255,255,255,255]\n",
    "            laby[item][ligne*7+2]=laby[item][ligne*7+2]+[255,255,255,255,255]\n",
    "            laby[item][ligne*7+3]=laby[item][ligne*7+3]+[255,255,255,255,255]\n",
    "            laby[item][ligne*7+4]=laby[item][ligne*7+4]+[255,255,255,255,255]\n",
    "            laby[item][ligne*7+5]=laby[item][ligne*7+5]+[255,255,255,255,255]\n",
    "        \n",
    "            if labyrinthe [ligne][case] in [1,5,7,9,10,13,14,16]:\n",
    "                laby[item][ligne*7+1].append(0)\n",
    "                laby[item][ligne*7+2].append(0)\n",
    "                laby[item][ligne*7+3].append(0)\n",
    "                laby[item][ligne*7+4].append(0)\n",
    "                laby[item][ligne*7+5].append(0)\n",
    "            else :\n",
    "                laby[item][ligne*7+1].append(255)\n",
    "                laby[item][ligne*7+2].append(255)\n",
    "                laby[item][ligne*7+3].append(255)\n",
    "                laby[item][ligne*7+4].append(255)\n",
    "                laby[item][ligne*7+5].append(255)\n",
    "            \n",
    "            if labyrinthe[ligne][case]in [2,6,10,11,12,13,14,16]:\n",
    "                laby[item][ligne*7+6]= laby[item][ligne*7+6]+[0,0,0,0,0,0,0]\n",
    "            else:\n",
    "                laby[item][ligne*7+6]= laby[item][ligne*7+6]+[0,255,255,255,255,255,0]\n",
    "    \n",
    "    print(\"Voici le labyrinthe\", item+1,':')\n",
    "    mpl.imshow(laby[item],cmap='gray')\n",
    "    mpl.show()\n",
    "    \n",
    "while choix<1 or choix>len(labyrinthes):\n",
    "    choix = input('quel labyrinthe veux tu tester? ')\n",
    "    try:\n",
    "        choix = int(choix)\n",
    "    except ValueError:\n",
    "        print(\"tu n'as pas rentré un numéro de labyrinthe !\")\n",
    "        choix = 0\n",
    "    if choix<1 or choix>len(labyrinthes):\n",
    "        print(\"la valeur entrée n'est pas le numéro de l'un des labyrinthes proposés.\")\n",
    "        \n",
    "nbrLignes = len(labyrinthes[choix-1])\n",
    "nbrColonnes = len(labyrinthes[choix-1][0])\n",
    "labyrinthe = labyrinthes[choix-1]\n",
    "\n",
    "if choix == 1:\n",
    "    caseDépart = 90\n",
    "    caseArrivée = 9\n",
    "elif choix == 2 :\n",
    "    caseDépart = 224\n",
    "    caseArrivée = 14\n",
    "elif choix == 3 :\n",
    "    caseDépart = 112\n",
    "    caseArrivée = 13\n",
    "elif choix ==4 :\n",
    "    caseDépart =0\n",
    "    caseArrivée = 190\n",
    "\n",
    "print ('Tu as choisi le labyrinthe n° ',choix,'. La case départ est la case numéro',caseDépart,'et la caseArrivée la case numéro', caseArrivée)   "
   ]
  },
  {
   "cell_type": "markdown",
   "metadata": {},
   "source": [
    "Le programme va maintenant calculer où on peut aller depuis chaque case"
   ]
  },
  {
   "cell_type": "code",
   "execution_count": 4,
   "metadata": {},
   "outputs": [
    {
     "name": "stdout",
     "output_type": "stream",
     "text": [
      "par exemple, depuis la case départ, on peut aller sur le(s) case(s) [14, 1]\n"
     ]
    }
   ],
   "source": [
    "case = 0#compteur dans la phase d'initialisation        \n",
    "possibilités = []\n",
    "\n",
    "for item, ligne in enumerate(labyrinthe):#pour chaque chaine de caractère (chaque ligne):\n",
    "    nbrColonnes = len(labyrinthe[0])# calculer le nombre de colones du labyrinthe\n",
    "    for item2, case2 in enumerate(labyrinthe[item]):#pour chaque case ( de chaque ligne donc)\n",
    "        t = labyrinthe[item][item2]#variable t : pour simplifier (au lieu d'écrire labyrinthe[item][item2])\n",
    "        possibilités.append([])\n",
    "        if t in [1,3,5,6,10,11,14,15]: #si on peut monter\n",
    "            if case-nbrColonnes>=0:#si le lien ne sort pas du labyrinthe\n",
    "                possibilités[case].append(case - nbrColonnes)# ajouter la case vers laquelle on peut aller dans les liens de la case.\n",
    "        if t in [1,3,4,5,7,8,9,15]:#si on peut descendre\n",
    "            if case+nbrColonnes<nbrColonnes*nbrLignes: #si on ne sort pas du labyrinthe en descendant\n",
    "                possibilités[case].append(case + nbrColonnes)# ajouter la case vers laquelle on peut aller dans les liens de la case\n",
    "        if t in [2,3,4,6,8,11,12,15]:#si on peut aller à droite\n",
    "            if (case+1)%nbrColonnes != 0: #si la case ou l'on est n'est pas sur la colone tout à droite -> si on ne sort pas du labyrinthe en allant à droite\n",
    "                possibilités[case].append(case+1)# ajouter la case vers laquelle on peut aller dans les liens de la case\n",
    "        if t in [2,4,5,6,9,10,13,15]:# si  on peut aller à gauche\n",
    "            if case%nbrColonnes != 0:#si on est sur la colone de gauche -> on sort du labyrinthe en allant à gauche\n",
    "                possibilités[case].append(case-1)# ajouter la case vers laquelle on peut aller dans les liens de celle ou on est.\n",
    "        case = case+1#on incrémente le compteur pour passer à la boucle suivante\n",
    "\n",
    "\n",
    "print('par exemple, depuis la case départ, on peut aller sur le(s) case(s)',possibilités[caseDépart])"
   ]
  },
  {
   "cell_type": "markdown",
   "metadata": {},
   "source": [
    "Démarre ensuite la phase de recherche des itinéraires possibles."
   ]
  },
  {
   "cell_type": "code",
   "execution_count": 5,
   "metadata": {
    "collapsed": true
   },
   "outputs": [],
   "source": [
    "from random import randrange\n",
    "\n",
    "save = []\n",
    "trajets=[]\n",
    "possibilitésFS = [[],[]]#Liste qui va contenir, en item 0 les possibilités prioritaires (first) et les possibilités secondaire en 1\n",
    "caseActu = caseDépart#on se place sur la case de départ.\n",
    "casesPassées =[caseDépart,]#Listes des cases par lesquelles on est deja passé\n",
    "trajet = [caseDépart,]# Liste des cases par lequelles le chemin actuel passe.\n",
    "casesPasséesTotal = []# Toutes les cases par lequelles on est passés ( y compris lors des tours précédents\n",
    "for item, one in enumerate(possibilités):#on sauvegarde les possibilités pour pouvoir les récupérer après les avoir modifiées\n",
    "    save.append([])\n",
    "    for item2,two in enumerate(one):\n",
    "        save[item].append(two)\n",
    "tour = 0#variable compteur\n",
    "trajetCourt= ('',nbrColonnes*nbrLignes)#Le trajet  le plus court: par défaut on l'a réglé sur le nombre total de cases.\n",
    "\n",
    "while len(casesPasséesTotal)!= nbrColonnes*nbrLignes and tour <nbrColonnes*nbrLignes:# On répète ça jusqu'à ce que soit on soit passé par toutes les cases.\n",
    "#...on aurait alors Le chemain le plus court, soit jusqu'à ce qu'on ait fait autant de tour qu'il y a de cases, auquel ca on sera presque sur d'avoir le trajet le plus court\n",
    "    \n",
    "    while caseActu != caseArrivée:# tant que l'on est pas sur la case 'arrivée'\n",
    "\n",
    "        for case in possibilités[caseActu]: # pour chaque case vers laquelle on peut aller\n",
    "            if case not in casesPassées :# si elle n'est pas dans les cases par lequelles on est déjà passé\n",
    "                possibilitésFS[0].append(case)# alors on l'ajoute aux cases 'prioritaires(first)'\n",
    "            else :# Sinon (si on y est déjà passé)\n",
    "                possibilitésFS[1].append(case)#Alors on l'ajoute dans les cases 'secondaires'\n",
    "        \n",
    "        if len(possibilitésFS[0]) != 0: #si il y a des cases prioritaires\n",
    "            caseSuivante = possibilitésFS[0][randrange(len(possibilitésFS[0]))]#Alors faire le tirage parmi elles\n",
    "            casesPassées.append(caseSuivante)#et ajouter la case tirée à casesPassées\n",
    "        elif len(possibilitésFS[1]) !=0:#sinon \n",
    "            caseSuivante = possibilitésFS[1][randrange(len(possibilitésFS[1]))]#Faire le tirages parmi les cases non prioritaires\n",
    "        \n",
    "        if caseSuivante in possibilités[caseActu]:#à ne pas montrer dans la partie!!!\n",
    "            del possibilités[caseActu][possibilités[caseActu].index(caseSuivante)]# on enleve la case où l'on va des possibilités de celle d'où on part\n",
    "        else :#à ne pas montrer dans la partie!!!\n",
    "            break#à ne pas montrer dans la partie!!!\n",
    "            \n",
    "        if caseSuivante not in trajet:#si caseSuivante n'est pas dans trajet\n",
    "            trajet.append(caseSuivante)# on ajoute la case où on vas au trajet déjà effectué\n",
    "        else :#sinon\n",
    "            del trajet[trajet.index(caseSuivante)+1:]# on supprime tout le trajet fait entre les deux cases identiques, sans rajouter la nouvelle.\n",
    "        \n",
    "        caseActu = caseSuivante#on se déplace\n",
    "        \n",
    "        possibilitésFS= [[],[]]#réinitialisation de possibilitésFS\n",
    "    \n",
    "    tour +=1#incrémentation de la variable compteur\n",
    "    \n",
    "    possibilités =[]\n",
    "    \n",
    "    for item, one in enumerate(save):#transfert des possibilités depuis la sauvegarde de la ligne 54/57\n",
    "        possibilités.append([])\n",
    "        for item2,two in enumerate(one):\n",
    "            possibilités[item].append(two)\n",
    "    \n",
    "    trajets.append(trajet)#ajouter le trajet de ce tour aux différents trajets trouvés\n",
    "    \n",
    "    caseActu = caseDépart #on se replace sur la case départ.\n",
    "\n",
    "    casesPassées = trajet = [caseDépart,] #réinitialisation de casesPassées et de trajet\n",
    "    \n",
    "    for case in casesPassées:#ajout des nouvelles case à la liste de l'ensemble des cases par lesquelles on est déjà passé\n",
    "        if case not in casesPasséesTotal: \n",
    "            casesPasséesTotal.append(case)"
   ]
  },
  {
   "cell_type": "markdown",
   "metadata": {},
   "source": [
    "Le programme a donc soit fait beaucoup de trajets du départ à l'arrivée, soit est passé par toutes les cases (auquel cas il a le trajet le plus court). il va maintenant trier les trajets pour avoir le plus court de tout ceux qu'il a parcouru et le donner."
   ]
  },
  {
   "cell_type": "code",
   "execution_count": 6,
   "metadata": {},
   "outputs": [
    {
     "name": "stdout",
     "output_type": "stream",
     "text": [
      "Un des trajets les plus courts passe successivement par les cases : [0, 14, 28, 42, 56, 57, 58, 44, 30, 31, 17, 18, 32, 33, 34, 48, 62, 63, 77, 78, 92, 106, 120, 134, 135, 149, 150, 164, 163, 177, 176, 190] et mesure 32 cases de long\n"
     ]
    }
   ],
   "source": [
    "trajetCourt= (nbrColonnes*nbrLignes+1,nbrColonnes*nbrLignes)#Le trajet  le plus court: par défaut on l'a réglé sur le nombre total de cases\n",
    "\n",
    "for trajet in enumerate(trajets):# recherche du trajet le plus court\n",
    "    if len(trajet[1])<=trajetCourt[1] and len(trajet[1])!=1:\n",
    "        trajetCourt = (trajet[0],len(trajet[1]))\n",
    "\n",
    "print('Un des trajets les plus courts passe successivement par les cases :',trajets[trajetCourt[0]],'et mesure', trajetCourt[1],'cases de long')"
   ]
  },
  {
   "cell_type": "markdown",
   "metadata": {},
   "source": [
    "Il va finir par afficher le labyrinthe avec le trajet à l'intérieur!!"
   ]
  },
  {
   "cell_type": "code",
   "execution_count": 7,
   "metadata": {},
   "outputs": [
    {
     "data": {
      "image/png": "[encoded data removed]",
      "text/plain": [
       "<matplotlib.figure.Figure at 0x8ef8104b00>"
      ]
     },
     "metadata": {},
     "output_type": "display_data"
    }
   ],
   "source": [
    "trajetCourt = trajets[trajetCourt[0]]\n",
    "\n",
    "solution = []# on crée la liste qui va contenir les lignes de pixels de notre image.\n",
    "for ligne in range(nbrLignes):#pour chaque nombre entre 0 et nbrLignes avec ligne = ce nombre\n",
    "    #Chaque ligne du labyrinthe est composé de 7 lignes:\n",
    "    solution.append([])#une bordure\n",
    "    solution.append([])#l'interieur de la case\n",
    "    solution.append([])# \"    \"     \"  \"   \"\n",
    "    solution.append([])# \"    \"     \"  \"   \"\n",
    "    solution.append([])# \"    \"     \"  \"   \"\n",
    "    solution.append([])# \"    \"     \"  \"   \"\n",
    "    solution.append([])#l'autre bordure\n",
    "    for case in range(nbrColonnes):#pour chaque case (de chaque ligne)\n",
    "        if labyrinthe[ligne][case]in [2,4,7,8,9,12,13,16]:#si il y a un trait en haut de la case :\n",
    "            solution[ligne*7]= solution[ligne*7]+[0,0,0,0,0,0,0]#ajouter 7 pixels noirs (0 = noir)\n",
    "        else:#si il ny en a pas\n",
    "            solution[ligne*7]= solution[ligne*7]+[0,255,255,255,255,255,0]#ajouter les pixels noirs aux deux coins et \n",
    "        #Des pixels blancs entre.\n",
    "        if labyrinthe[ligne][case] in [1,3,7,8,11,12,14,16]:#si il y a un trait à gauche\n",
    "            solution[ligne*7+1].append(0)#ajouter un pixel noir sur la deuxième ligne\n",
    "            solution[ligne*7+2].append(0)#ajouter un pixel noir sur la troisième ligne\n",
    "            solution[ligne*7+3].append(0)#ajouter un pixel noir sur la quatrième ligne\n",
    "            solution[ligne*7+4].append(0)#ajouter un pixel noir sur la cinquième ligne\n",
    "            solution[ligne*7+5].append(0)#ajouter un pixel noir sur la sixième ligne\n",
    "        else:\n",
    "            solution[ligne*7+1].append(255)#ajouter un pixel blanc sur la deuxième ligne\n",
    "            solution[ligne*7+2].append(255)#ajouter un pixel blanc sur la troisième ligne\n",
    "            solution[ligne*7+3].append(255)#ajouter un pixel blanc sur la quatrième ligne\n",
    "            solution[ligne*7+4].append(255)#ajouter un pixel blanc sur la cinquième ligne\n",
    "            solution[ligne*7+5].append(255)#ajouter un pixel blanc sur la sixième ligne\n",
    "            \n",
    "        solution[ligne*7+1]=solution[ligne*7+1]+[255,255,255,255,255]#ajouter les 25 (5*5)pixels blanc du centre de la case.\n",
    "        solution[ligne*7+2]=solution[ligne*7+2]+[255,255,255,255,255]\n",
    "        solution[ligne*7+3]=solution[ligne*7+3]+[255,255,255,255,255]\n",
    "        solution[ligne*7+4]=solution[ligne*7+4]+[255,255,255,255,255]\n",
    "        solution[ligne*7+5]=solution[ligne*7+5]+[255,255,255,255,255]\n",
    "        \n",
    "        if labyrinthe [ligne][case] in [1,5,7,9,10,13,14,16]:#même chose que pour le trait à gauche (mais à droite cette fois)\n",
    "            solution[ligne*7+1].append(0)\n",
    "            solution[ligne*7+2].append(0)\n",
    "            solution[ligne*7+3].append(0)\n",
    "            solution[ligne*7+4].append(0)\n",
    "            solution[ligne*7+5].append(0)\n",
    "        else :\n",
    "            solution[ligne*7+1].append(255)\n",
    "            solution[ligne*7+2].append(255)\n",
    "            solution[ligne*7+3].append(255)\n",
    "            solution[ligne*7+4].append(255)\n",
    "            solution[ligne*7+5].append(255)\n",
    "            \n",
    "        if labyrinthe[ligne][case]in [2,6,10,11,12,13,14,16]:#même chose que pour le trait en haut (mais en bas cette fois)\n",
    "            solution[ligne*7+6]= solution[ligne*7+6]+[0,0,0,0,0,0,0]\n",
    "        else:\n",
    "            solution[ligne*7+6]= solution[ligne*7+6]+[0,255,255,255,255,255,0]\n",
    "\n",
    "for case in trajetCourt:#Pour chaque case du trajet :\n",
    "    ligne = case//nbrColonnes#affecter à ligne le quotient de la division euclidienne de case par nbrColonnes\n",
    "    colonne = case % nbrColonnes#affecter à colonne le reste de la division euclidienne de case par nbrColonnes\n",
    "    solution[ligne*7+1][colonne*7+1]= 127#mettre en gris les 5 cases de la ligne 2\n",
    "    solution[ligne*7+1][colonne*7+2]= 127\n",
    "    solution[ligne*7+1][colonne*7+3]= 127\n",
    "    solution[ligne*7+1][colonne*7+4]= 127\n",
    "    solution[ligne*7+1][colonne*7+5]= 127\n",
    "    \n",
    "    solution[ligne*7+2][colonne*7+1]= 127#mettre en gris les 5 cases de la ligne 3\n",
    "    solution[ligne*7+2][colonne*7+2]= 127\n",
    "    solution[ligne*7+2][colonne*7+3]= 127\n",
    "    solution[ligne*7+2][colonne*7+4]= 127\n",
    "    solution[ligne*7+2][colonne*7+5]= 127\n",
    "    \n",
    "    solution[ligne*7+3][colonne*7+1]= 127#mettre en gris les 5 cases de la ligne 4\n",
    "    solution[ligne*7+3][colonne*7+2]= 127\n",
    "    solution[ligne*7+3][colonne*7+3]= 127\n",
    "    solution[ligne*7+3][colonne*7+4]= 127\n",
    "    solution[ligne*7+3][colonne*7+5]= 127\n",
    "    \n",
    "    solution[ligne*7+4][colonne*7+1]= 127#mettre en gris les 5 cases de la ligne 5\n",
    "    solution[ligne*7+4][colonne*7+2]= 127\n",
    "    solution[ligne*7+4][colonne*7+3]= 127\n",
    "    solution[ligne*7+4][colonne*7+4]= 127\n",
    "    solution[ligne*7+4][colonne*7+5]= 127\n",
    "    \n",
    "    solution[ligne*7+5][colonne*7+1]= 127#mettre en gris les 5 cases de la ligne 6\n",
    "    solution[ligne*7+5][colonne*7+2]= 127\n",
    "    solution[ligne*7+5][colonne*7+3]= 127\n",
    "    solution[ligne*7+5][colonne*7+4]= 127\n",
    "    solution[ligne*7+5][colonne*7+5]= 127\n",
    "\n",
    "mpl.imshow(solution,cmap='gray')#afficher le labyrinthe dans le repère\n",
    "mpl.show()#afficher le repère"
   ]
  },
  {
   "cell_type": "code",
   "execution_count": null,
   "metadata": {
    "collapsed": true
   },
   "outputs": [],
   "source": []
  }
 ],
 "metadata": {
  "kernelspec": {
   "display_name": "Python 3",
   "language": "python",
   "name": "python3"
  },
  "language_info": {
   "codemirror_mode": {
    "name": "ipython",
    "version": 3
   },
   "file_extension": ".py",
   "mimetype": "text/x-python",
   "name": "python",
   "nbconvert_exporter": "python",
   "pygments_lexer": "ipython3",
   "version": "3.6.3"
  }
 },
 "nbformat": 4,
 "nbformat_minor": 2
}
