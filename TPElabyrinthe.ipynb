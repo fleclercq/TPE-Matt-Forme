{
 "cells": [
  {
   "cell_type": "markdown",
   "metadata": {},
   "source": [
    "# Labyrinthe TPE\n",
    "\n",
    "Ce programme a été conçu pour sortir d'un labyrinthe.\n",
    "\n",
    "<IMG SRC=\"laby1sol.png\">\n",
    "\n",
    "Ce labyrinthe peut être de n'importe quelle taille, du moment qu'il y a une sortie, le programme la trouvera.\n",
    "\n",
    "Si vous êtes pressé de l'essayer, voici quelques exemples de labyrinthe, cliquez sur votre choix.\n",
    "\n",
    "[Exemple 1](TPElabyrintheEx1.ipynb) : C'est le labyrinthe représenté ci-dessus.\n",
    "\n",
    "[Exemple 2](TPElabyrintheEx2.ipynb) \n",
    "\n",
    "[Exemple 3](TPElabyrintheEx3.ipynb) \n",
    "\n",
    "[Exemple 4](TPElabyrintheEx4.ipynb) \n",
    "\n",
    "Si vous voulez l'inventer, je vais vous guider pas à pas, continuez en cliquant sur l'icône Run à chaque pas.\n",
    "\n",
    "<table><tr><td>L'icône Run est la plus à gauche dans la barre</td><td> <IMG SRC=\"run.png\"></td><td> en haut de cette page.</td></tr></table>"
   ]
  },
  {
   "cell_type": "markdown",
   "metadata": {},
   "source": [
    "Le programme commence par vous demander le nombre de lignes qu'a votre labyrinthe."
   ]
  },
  {
   "cell_type": "code",
   "execution_count": null,
   "metadata": {},
   "outputs": [],
   "source": [
    "#Tout ce qui est écrit comme cela en vert avec un dièse avant est un commentaire : c'est une partie du fichier qui n'est \n",
    "#pas prise en compte lors de l'exécution du programme.\n",
    "\n",
    "import matplotlib.pyplot as mpl    # import de mpl, qui sera notre repère\n",
    "\n",
    "lignes = False# pour passer une variable en paramètres à une boucle tant que, il faut qu'elle soit égale à quelquechose\n",
    "\n",
    "while lignes == False:# Tant que la condition (variable lignes égale à False) est respectée, on recommence la boucle.\n",
    "    nbrLignes = input('combien de lignes comporte votre labyrinthe? ')#on demande à l'utilisateur de rentrer le nombre \n",
    "#de lignes et on stocke la variable (une chaine de caractère dans nbrLignes) \n",
    "    try:#La boucle try permet d'exécuter le code de son block d'intruction, sauf si une erreur est renvoyée.\n",
    "        nbrLignes = int(nbrLignes)#on transforme la chaine de caractère entrée précédemment en un entier (int)\n",
    "        lignes = nbrLignes#s'il n'y a pas eu d'erreur, on change la valeur de lignes en lui donnanr celle de nbrLignes\n",
    "    except ValueError :#Si l'exception(erreur) de type ValueError est renvoyée,\n",
    "        print(\"La valeur entrée n'est pas un nombre entier\")#on indique à l'utilisateur que sa valeur est erronnée et on\n",
    "# ne change pas la valeur de ligne pour que la boucle recommence."
   ]
  },
  {
   "cell_type": "markdown",
   "metadata": {},
   "source": [
    "Il va ensuite vous demander de rentrer les lignes une par une. Attention, pour rentrer les lignes, il faut utiliser le code ci dessous(Il faut lancer une première fois cette cellule avant qu'elle ne marche):"
   ]
  },
  {
   "cell_type": "code",
   "execution_count": null,
   "metadata": {},
   "outputs": [],
   "source": [
    "image = mpl.imread(\"code.png\")# la variable image contient une image lue\n",
    "mpl.imshow(image,cmap='gray')      # On affiche l'image dans le repère\n",
    "mpl.show()# et on affiche le repère."
   ]
  },
  {
   "cell_type": "markdown",
   "metadata": {},
   "source": [
    "Il va maintenant vous demander de rentrer les lignes, une par une :"
   ]
  },
  {
   "cell_type": "code",
   "execution_count": null,
   "metadata": {
    "collapsed": true
   },
   "outputs": [],
   "source": [
    "ok = False#pour la même raison que pour ligne, il faut initialiser la variable.\n",
    "labyrinthe = []#on crée la liste qui contiendra les cases du tableau.\n",
    "\n",
    "lignes = 0#On initialise lignes, qui sera notre compteur.\n",
    "while lignes < nbrLignes:#tant que le nombre de lignes entrées est inférieur au nombre de lignes annoncé:\n",
    "    lignes += 1 # équivaut à lignes = lignes+1\n",
    "    labyrinthe.append([])#on ajoute une ligne(en fait une liste) dans la liste labyrinthe.\n",
    "    rentrerLaLigne = \"Rentre la ligne n°\" + str(lignes) + \" du labyrinthe \"# on crée une chaine de caractère\n",
    "    while labyrinthe[lignes-1] == [] : # tant que la liste de la ligne est vide (en programation on compte à partir \n",
    "#de 0. La première ligne sera donc dans labyrinthe[0])\n",
    "        ligne = input(rentrerLaLigne)# On demande à l'utilisateur de rentrer la ligne\n",
    "        ligne = ligne.split(',')#On coupe (split = éclater) la chaine obtenue à chaque virgule.\n",
    "        try :# La boucle try permet d'exécuter le code de son block d'intruction, sauf si une erreur est renvoyée.\n",
    "              for item,case in enumerate(ligne) :# pour chaque item contenu dans ligne, mettre le numéro de l'item dans\n",
    "#item et son contenu dans case. A chaque tour de boucle, on passe à l'item suivant.\n",
    "                ligne[item] = int(case)#On transforme ce qui était une chaine de caractère en entier ('2' --> 2)\n",
    "        except ValueError:# si une ValueError est renvoyée,\n",
    "            print(\"vous n'avez pas entré uniquement des nombres séparés par des virgules\")#le signaler \n",
    "        print ('il y a donc', len(ligne) ,'colonnes dans cette ligne')# On donne le nombre de case entrées...\n",
    "        if input (\"appuyer uniquement sur entrer pour notifier l'afirmative.\") == '':#pour que l'utilisateur confirme.\n",
    "            labyrinthe[lignes-1] = ligne #Si il confireme, on rentre la ligne dans la liste labyrinthe\n",
    "        else :# et sinon\n",
    "            print ('merci de ressaisir la ligne.')# on lui demande de ressaisir la ligne.\n",
    "        if lignes != 1 and len(ligne) != nbrColonnes:#si la ligne contient un nombre de cases différent des autres\n",
    "            labyrinthe[lignes - 1] = []#alors réinitialiser la ligne pour que la boucle recommence\n",
    "            print(\"La ligne n'est pas de la même longueur que la précédente. veuillez la re-rentrer.\")\n",
    "        # et l'indiquer à l'utilisateur\n",
    "        else : #sinon (si il y a autant de cases que dans les autres lignes)\n",
    "            nbrColonnes = len(ligne)#régler nbrColonnes sur le nombre de cases de la ligne.\n"
   ]
  },
  {
   "cell_type": "markdown",
   "metadata": {},
   "source": [
    "Il va maintenant vous demander la case départ."
   ]
  },
  {
   "cell_type": "code",
   "execution_count": null,
   "metadata": {
    "collapsed": true
   },
   "outputs": [],
   "source": [
    "caseDépart = (nbrLignes * nbrColonnes)+1#on initialise la case départ en dehors du labyrinthe\n",
    "\n",
    "while caseDépart > nbrLignes*nbrColonnes :# tant que case départ est en dehors du labyrinthe,\n",
    "    caseDépart = input('quel est le numéro de la case de départ(numérotez les cases de gauche à droite et de haut en bas en partant de 0)')\n",
    "    #demander à l'utilisateur de rentrer la valeur de caseDépart\n",
    "    try :\n",
    "        caseDépart = int(caseDépart)#essayer de transformer la string en entier\n",
    "    except ValueError :\n",
    "        caseDépart = (nbrLignes * nbrColonnes)+1#réinitialiser case départ pour recommencer la boucle\n",
    "        print(\"La valeur entrée n'est pas un nombre entier\")#et le signaler"
   ]
  },
  {
   "cell_type": "markdown",
   "metadata": {},
   "source": [
    "Le programme va maintenant calculer où on peut aller depuis chaque case"
   ]
  },
  {
   "cell_type": "code",
   "execution_count": null,
   "metadata": {
    "collapsed": true,
    "scrolled": true
   },
   "outputs": [],
   "source": [
    "case = 0#compteur dans la phase d'initialisation        \n",
    "possibilités = []#stockage des possibilités de déplacement en fonction de la case actuelle\n",
    "caseArrivée = []#case d'arrivée\n",
    "\n",
    "for item, ligne in enumerate(labyrinthe):#pour chaque chaine de caractère (chaque ligne):\n",
    "    nbrColonnes = len(labyrinthe[0])# calculer le nombre de colones du labyrinthe\n",
    "    for item2, case2 in enumerate(labyrinthe[item]):#pour chaque case ( de chaque ligne donc)\n",
    "        t = labyrinthe[item][item2]#variable t : pour simplifier (au lieu d'écrire labyrinthe[item][item2])\n",
    "        possibilités.append([])\n",
    "        if t in [1,3,5,6,10,11,14,15]: #si on peut monter\n",
    "            if case-nbrColonnes>=0:#si le lien ne sort pas du labyrinthe\n",
    "                possibilités[case].append(case - nbrColonnes)# ajouter la case vers laquelle on peut aller dans les liens de la case.\n",
    "            elif case != caseDépart :#sinon (si en montant on sort du labyrinthe) on verifie que la case ne soit pas la case départ\n",
    "                caseArrivée.append(case)# La case est l'arrivée\n",
    "        if t in [1,3,4,5,7,8,9,15]:#si on peut descendre\n",
    "            if case+nbrColonnes<nbrColonnes*nbrLignes: #si on ne sort pas du labyrinthe en descendant\n",
    "                possibilités[case].append(case + nbrColonnes)# ajouter la case vers laquelle on peut aller dans les liens de la case\n",
    "            elif case != caseDépart :#sinon (si en descendant on sort du labyrinthe) on verifie que la case ne soit pas la case départ\n",
    "                caseArrivée.append(case)# La case est l'arrivée\n",
    "        if t in [2,3,4,6,8,11,12,15]:#si on peut aller à droite\n",
    "            if (case+1)%nbrColonnes != 0: #si la case ou l'on est n'est pas sur la colone tout à droite -> si on ne sort pas du labyrinthe en allant à droite\n",
    "                possibilités[case].append(case+1)# ajouter la case vers laquelle on peut aller dans les liens de la case\n",
    "            elif case != caseDépart :#sinon (si on sort du labyrinthe en allant à droite)on verifie que la case ne soit pas la case départ\n",
    "                caseArrivée.append(case)# Alors on est sur l'arrivée\n",
    "        if t in [2,4,5,6,9,10,13,15]:# si  on peut aller à gauche\n",
    "            if case%nbrColonnes != 0:#si on est sur la colone de gauche -> on sort du labyrinthe en allant à gauche\n",
    "                possibilités[case].append(case-1)# ajouter la case vers laquelle on peut aller dans les liens de celle ou on est.\n",
    "            elif case != caseDépart :#sinon (si on sort du labyrinthe en allant à droite)on verifie que la case ne soit pas la case départ\n",
    "                caseArrivée.append(case)# alors on est sur la case arrivée\n",
    "        case = case+1#on incrémente le compteur pour passer à la boucle suivante\n",
    "        \n",
    "print('par exemple, depuis la case départ, on peut aller sur le(s) case(s)',possibilités[caseDépart])"
   ]
  },
  {
   "cell_type": "markdown",
   "metadata": {},
   "source": [
    "Dans le cas où il y a plusieurs trous (ou aucun) vers l'extérieur autres que la case départ, il se dit que vous vous êtes trompés dans la dictée de votre labyrinthe et vous demande quelle case est la sortie:"
   ]
  },
  {
   "cell_type": "code",
   "execution_count": null,
   "metadata": {
    "collapsed": true
   },
   "outputs": [],
   "source": [
    "if len(caseArrivée) != 1:#si il y a soit 0 soit plus d'un item dans la liste case arrivée, le programme pense à une \n",
    "    #erreur et demande à l'utilisateur de lui dire quelle est la case arrivée.\n",
    "    while len(caseArrivée) != 1:#tant que la longueur de la chaine n'est pas 1\n",
    "        caseArrivée = input(\"je ne suis pas sur de la case arrivée. pouvez-vous me l'indiquer s'il vous plait?\")\n",
    "        try :\n",
    "            caseArrivée = [int(caseArrivée)]\n",
    "            print('ça marche!')#notifier à l'utilisateur qu'on a compris\n",
    "        except ValueError:\n",
    "            print(\"je n'ai pas compris. vous avez du rentrer autre chose qu'un nombre entier...\")\n",
    "            caseArrivée = []#réinitialiser la liste pour recommencer la boucle.\n",
    "        if caseArrivée >= nbrColonnes*nbrLignes:#regarder si la valeur est bien dans le labyrinthe et sinon...\n",
    "            print(\"votre case d'arrivée n'est pas dans le labyrinthe\")\n",
    "            caseArrivée = []#réinitialiser la liste pour recommencer la boucle.\n",
    "            \n",
    "caseArrivée = caseArrivée[0]#transformer la liste en entier"
   ]
  },
  {
   "cell_type": "markdown",
   "metadata": {},
   "source": [
    "Démarre ensuite la phase de recherche des itinéraires possibles."
   ]
  },
  {
   "cell_type": "code",
   "execution_count": null,
   "metadata": {
    "collapsed": true
   },
   "outputs": [],
   "source": [
    "from random import randrange #importation du tirage au sort\n",
    "\n",
    "save = []#variable conenant possibilité (qui va être modifié) pour pouvoir réinitialiser possibilités\n",
    "trajets=[]#ensemble des trajets trouvés pour décider du plus court.\n",
    "possibilitésFS = [[],[]]#Liste qui va contenir, en item 0 les possibilités prioritaires (first) et les possibilités secondaire en 1\n",
    "caseActu = caseDépart#on se place sur la case de départ.\n",
    "casesPassées =[caseDépart,]#Listes des cases par lesquelles on est deja passé\n",
    "trajet = [caseDépart,]# Liste des cases par lequelles le chemin actuel passe.\n",
    "casesPasséesTotal = []# Toutes les cases par lequelles on est passés ( y compris lors des tours précédents\n",
    "for item, one in enumerate(possibilités):#on sauvegarde les possibilités pour pouvoir les récupérer après les avoir modifiées\n",
    "    save.append([])\n",
    "    for item2,two in enumerate(one):\n",
    "        save[item].append(two)\n",
    "tour = 0#variable compteur\n",
    "trajetCourt= ('',nbrColonnes*nbrLignes)#Le trajet  le plus court: par défaut on l'a réglé sur le nombre total de cases.\n",
    "\n",
    "while len(casesPasséesTotal)!= nbrColonnes*nbrLignes and tour <nbrColonnes*nbrLignes:# On répète ça jusqu'à ce que soit on soit passé par toutes les cases.\n",
    "#...on aurait alors Le chemain le plus court, soit jusqu'à ce qu'on ait fait autant de tour qu'il y a de cases, auquel ca on sera presque sur d'avoir le trajet le plus court\n",
    "    \n",
    "    while caseActu != caseArrivée:# tant que l'on est pas sur la case 'arrivée'\n",
    "\n",
    "        for case in possibilités[caseActu]: # pour chaque case vers laquelle on peut aller\n",
    "            if case not in casesPassées :# si elle n'est pas dans les cases par lequelles on est déjà passé\n",
    "                possibilitésFS[0].append(case)# alors on l'ajoute aux cases 'prioritaires(first)'\n",
    "            else :# Sinon (si on y est déjà passé)\n",
    "                possibilitésFS[1].append(case)#Alors on l'ajoute dans les cases 'secondaires'\n",
    "        \n",
    "        if len(possibilitésFS[0]) != 0: #si il y a des cases prioritaires\n",
    "            caseSuivante = possibilitésFS[0][randrange(len(possibilitésFS[0]))]#Alors faire le tirage parmi elles\n",
    "            casesPassées.append(caseSuivante)#et ajouter la case tirée à casesPassées\n",
    "        elif len(possibilitésFS[1]) !=0:#sinon \n",
    "            caseSuivante = possibilitésFS[1][randrange(len(possibilitésFS[1]))]#Faire le tirages parmi les cases non prioritaires\n",
    "        \n",
    "        if caseSuivante in possibilités[caseActu]:\n",
    "            del possibilités[caseActu][possibilités[caseActu].index(caseSuivante)]# on enleve la case où l'on va des possibilités de celle d'où on part\n",
    "        else :\n",
    "            break# en informatique, on rencontre souvent des problèmes et parfois, on ne comprend pas les erreurs renvoyées\n",
    "#Il faut cependant savoir faire avec et contourner les problèmes que l'on ne comprend pas. Par exemple, ici, en voyant que\n",
    "#la même erreur m'était régulièrement envoyée, j'ai décidé, vu que je n'en trouvait pas la cause, de mettre l'intruction\n",
    "#dans une boucle for: si l'erreur se produit, le mot break intervient et casse la boucle pour passer au tour suivant.\n",
    "            \n",
    "        if caseSuivante not in trajet:#si caseSuivante n'est pas dans trajet\n",
    "            trajet.append(caseSuivante)# on ajoute la case où on vas au trajet déjà effectué\n",
    "        else :#sinon\n",
    "            del trajet[trajet.index(caseSuivante)+1:]# on supprime tout le trajet fait entre les deux cases identiques, sans rajouter la nouvelle.\n",
    "        \n",
    "        caseActu = caseSuivante#on se déplace\n",
    "        \n",
    "        possibilitésFS= [[],[]]#réinitialisation de possibilitésFS\n",
    "    \n",
    "    tour +=1#incrémentation de la variable compteur\n",
    "    \n",
    "    possibilités =[]\n",
    "    \n",
    "    for item, one in enumerate(save):#transfert des possibilités depuis la sauvegarde de la ligne 54/57\n",
    "        possibilités.append([])\n",
    "        for item2,two in enumerate(one):\n",
    "            possibilités[item].append(two)\n",
    "    \n",
    "    trajets.append(trajet)#ajouter le trajet de ce tour aux différents trajets trouvés\n",
    "    \n",
    "    caseActu = caseDépart #on se replace sur la case départ.\n",
    "\n",
    "    casesPassées = trajet = [caseDépart,] #réinitialisation de casesPassées et de trajet\n",
    "    \n",
    "    for case in casesPassées:#ajout des nouvelles case à la liste de l'ensemble des cases par lesquelles on est déjà passé\n",
    "        if case not in casesPasséesTotal: \n",
    "            casesPasséesTotal.append(case)\n",
    "\n"
   ]
  },
  {
   "cell_type": "markdown",
   "metadata": {},
   "source": [
    "Le programme a donc soit fait beaucoup de trajets du départ à l'arrivée, soit est passé par toutes les cases (auquel cas il a le trajet le plus court). il va maintenant trier les trajets pour avoir le plus court de tout ceux qu'il a parcouru et le donner."
   ]
  },
  {
   "cell_type": "code",
   "execution_count": null,
   "metadata": {
    "collapsed": true,
    "scrolled": false
   },
   "outputs": [],
   "source": [
    "trajetCourt= (nbrColonnes*nbrLignes+1,nbrColonnes*nbrLignes)#Le trajet  le plus court: par défaut on l'a réglé sur le nombre total de cases\n",
    "\n",
    "for trajet in enumerate(trajets):# recherche du trajet le plus court\n",
    "    if len(trajet[1])<=trajetCourt[1] and len(trajet[1])!=1:\n",
    "        trajetCourt = (trajet[0],len(trajet[1]))\n",
    "\n",
    "print('Un des trajets les plus courts passe successivement par les cases :',trajets[trajetCourt[0]],'et mesure', trajetCourt[1],'cases de long')\n"
   ]
  },
  {
   "cell_type": "markdown",
   "metadata": {},
   "source": [
    "Il va finir par afficher le labyrinthe..."
   ]
  },
  {
   "cell_type": "code",
   "execution_count": null,
   "metadata": {
    "collapsed": true,
    "scrolled": false
   },
   "outputs": [],
   "source": [
    "solution = []# on crée la liste qui va contenir les lignes de pixels de notre image.\n",
    "for ligne in range(nbrLignes):#pour chaque nombre entre 0 et nbrLignes avec ligne = ce nombre\n",
    "    #Chaque ligne du labyrinthe est composé de 7 lignes:\n",
    "    solution.append([])#une bordure\n",
    "    solution.append([])#l'interieur de la case\n",
    "    solution.append([])# \"    \"     \"  \"   \"\n",
    "    solution.append([])# \"    \"     \"  \"   \"\n",
    "    solution.append([])# \"    \"     \"  \"   \"\n",
    "    solution.append([])# \"    \"     \"  \"   \"\n",
    "    solution.append([])#l'autre bordure\n",
    "    for case in range(nbrColonnes):#pour chaque case (de chaque ligne)\n",
    "        if labyrinthe[ligne][case]in [2,4,7,8,9,12,13,16]:#si il y a un trait en haut de la case :\n",
    "            solution[ligne*7]= solution[ligne*7]+[0,0,0,0,0,0,0]#ajouter 7 pixels noirs (0 = noir)\n",
    "        else:#si il ny en a pas\n",
    "            solution[ligne*7]= solution[ligne*7]+[0,255,255,255,255,255,0]#ajouter les pixels noirs aux deux coins et \n",
    "        #Des pixels blancs entre.\n",
    "        if labyrinthe[ligne][case] in [1,3,7,8,11,12,14,16]:#si il y a un trait à gauche\n",
    "            solution[ligne*7+1].append(0)#ajouter un pixel noir sur la deuxième ligne\n",
    "            solution[ligne*7+2].append(0)#ajouter un pixel noir sur la troisième ligne\n",
    "            solution[ligne*7+3].append(0)#ajouter un pixel noir sur la quatrième ligne\n",
    "            solution[ligne*7+4].append(0)#ajouter un pixel noir sur la cinquième ligne\n",
    "            solution[ligne*7+5].append(0)#ajouter un pixel noir sur la sixième ligne\n",
    "        else:\n",
    "            solution[ligne*7+1].append(255)#ajouter un pixel blanc sur la deuxième ligne\n",
    "            solution[ligne*7+2].append(255)#ajouter un pixel blanc sur la troisième ligne\n",
    "            solution[ligne*7+3].append(255)#ajouter un pixel blanc sur la quatrième ligne\n",
    "            solution[ligne*7+4].append(255)#ajouter un pixel blanc sur la cinquième ligne\n",
    "            solution[ligne*7+5].append(255)#ajouter un pixel blanc sur la sixième ligne\n",
    "            \n",
    "        solution[ligne*7+1]=solution[ligne*7+1]+[255,255,255,255,255]#ajouter les 25 (5*5)pixels blanc du centre de la case.\n",
    "        solution[ligne*7+2]=solution[ligne*7+2]+[255,255,255,255,255]\n",
    "        solution[ligne*7+3]=solution[ligne*7+3]+[255,255,255,255,255]\n",
    "        solution[ligne*7+4]=solution[ligne*7+4]+[255,255,255,255,255]\n",
    "        solution[ligne*7+5]=solution[ligne*7+5]+[255,255,255,255,255]\n",
    "        \n",
    "        if labyrinthe [ligne][case] in [1,5,7,9,10,13,14,16]:#même chose que pour le trait à gauche (mais à droite cette fois)\n",
    "            solution[ligne*7+1].append(0)\n",
    "            solution[ligne*7+2].append(0)\n",
    "            solution[ligne*7+3].append(0)\n",
    "            solution[ligne*7+4].append(0)\n",
    "            solution[ligne*7+5].append(0)\n",
    "        else :\n",
    "            solution[ligne*7+1].append(255)\n",
    "            solution[ligne*7+2].append(255)\n",
    "            solution[ligne*7+3].append(255)\n",
    "            solution[ligne*7+4].append(255)\n",
    "            solution[ligne*7+5].append(255)\n",
    "            \n",
    "        if labyrinthe[ligne][case]in [2,6,10,11,12,13,14,16]:#même chose que pour le trait en haut (mais en bas cette fois)\n",
    "            solution[ligne*7+6]= solution[ligne*7+6]+[0,0,0,0,0,0,0]\n",
    "        else:\n",
    "            solution[ligne*7+6]= solution[ligne*7+6]+[0,255,255,255,255,255,0]\n",
    "\n",
    "print(\"Voici le labyrinthe\")\n",
    "mpl.imshow(solution,cmap='gray')#afficher le labyrinthe dans le repère\n",
    "mpl.show()#aficher le repère"
   ]
  },
  {
   "cell_type": "markdown",
   "metadata": {},
   "source": [
    "Puis le trajet à l'intérieur!!"
   ]
  },
  {
   "cell_type": "code",
   "execution_count": null,
   "metadata": {
    "collapsed": true
   },
   "outputs": [],
   "source": [
    "trajetCourt = trajets[trajetCourt[0]]#affecter à trajetCourt le trajet le plus court\n",
    "\n",
    "for case in trajetCourt:#Pour chaque case du trajet :\n",
    "    ligne = case//nbrColonnes#affecter à ligne le quotient de la division euclidienne de case par nbrColonnes\n",
    "    colonne = case % nbrColonnes#affecter à colonne le reste de la division euclidienne de case par nbrColonnes\n",
    "    solution[ligne*7+1][colonne*7+1]= 127#mettre en gris les 5 cases de la ligne 2\n",
    "    solution[ligne*7+1][colonne*7+2]= 127\n",
    "    solution[ligne*7+1][colonne*7+3]= 127\n",
    "    solution[ligne*7+1][colonne*7+4]= 127\n",
    "    solution[ligne*7+1][colonne*7+5]= 127\n",
    "    \n",
    "    solution[ligne*7+2][colonne*7+1]= 127#mettre en gris les 5 cases de la ligne 3\n",
    "    solution[ligne*7+2][colonne*7+2]= 127\n",
    "    solution[ligne*7+2][colonne*7+3]= 127\n",
    "    solution[ligne*7+2][colonne*7+4]= 127\n",
    "    solution[ligne*7+2][colonne*7+5]= 127\n",
    "    \n",
    "    solution[ligne*7+3][colonne*7+1]= 127#mettre en gris les 5 cases de la ligne 4\n",
    "    solution[ligne*7+3][colonne*7+2]= 127\n",
    "    solution[ligne*7+3][colonne*7+3]= 127\n",
    "    solution[ligne*7+3][colonne*7+4]= 127\n",
    "    solution[ligne*7+3][colonne*7+5]= 127\n",
    "    \n",
    "    solution[ligne*7+4][colonne*7+1]= 127#mettre en gris les 5 cases de la ligne 5\n",
    "    solution[ligne*7+4][colonne*7+2]= 127\n",
    "    solution[ligne*7+4][colonne*7+3]= 127\n",
    "    solution[ligne*7+4][colonne*7+4]= 127\n",
    "    solution[ligne*7+4][colonne*7+5]= 127\n",
    "    \n",
    "    solution[ligne*7+5][colonne*7+1]= 127#mettre en gris les 5 cases de la ligne 6\n",
    "    solution[ligne*7+5][colonne*7+2]= 127\n",
    "    solution[ligne*7+5][colonne*7+3]= 127\n",
    "    solution[ligne*7+5][colonne*7+4]= 127\n",
    "    solution[ligne*7+5][colonne*7+5]= 127\n",
    "\n",
    "mpl.imshow(solution,cmap='gray')#afficher le labyrinthe dans le repère\n",
    "mpl.show()#afficher le repère"
   ]
  }
 ],
 "metadata": {
  "kernelspec": {
   "display_name": "Python 3",
   "language": "python",
   "name": "python3"
  },
  "language_info": {
   "codemirror_mode": {
    "name": "ipython",
    "version": 3
   },
   "file_extension": ".py",
   "mimetype": "text/x-python",
   "name": "python",
   "nbconvert_exporter": "python",
   "pygments_lexer": "ipython3",
   "version": "3.6.3"
  }
 },
 "nbformat": 4,
 "nbformat_minor": 2
}
